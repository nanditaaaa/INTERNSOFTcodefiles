{
  "cells": [
    {
      "cell_type": "markdown",
      "metadata": {
        "id": "mavqkObbLDBa"
      },
      "source": [
        "# Object Oriented Programming and File I/O"
      ]
    },
    {
      "cell_type": "markdown",
      "metadata": {
        "id": "dj_QxRQbLDBf"
      },
      "source": [
        "__Object Oriented Programming (OOP)__ is a programming paradigm that allows abstraction through the concept of interacting entities. This programming works contradictory to conventional model and is procedural, in which programs are organized as a sequence of commands or statements to perform.\n",
        "\n",
        "We can think an object as an entity that resides in memory, has a state and it's able to perform some actions.\n",
        "\n",
        "More formally objects are entities that represent **instances** of a general abstract concept called **class**. In `Python`, \"attributes\" are the variables defining an object state and the possible actions are called \"methods\".\n",
        "\n",
        "In Python, everything is an object also classes and functions."
      ]
    },
    {
      "cell_type": "markdown",
      "metadata": {
        "id": "6DE_u3UvLDBg"
      },
      "source": [
        "## 1 How to define classes"
      ]
    },
    {
      "cell_type": "markdown",
      "metadata": {
        "id": "3q-MM1SmLDBg"
      },
      "source": [
        "### 1.1 Creating a class"
      ]
    },
    {
      "cell_type": "markdown",
      "metadata": {
        "id": "hZ7xCJK6LDBh"
      },
      "source": [
        "Suppose we want to create a class, named Person, as a prototype, a sort of template for any number of 'Person' objects (instances)."
      ]
    },
    {
      "cell_type": "markdown",
      "metadata": {
        "id": "Gh0JgVXwLDBh"
      },
      "source": [
        "The following python syntax defines a class:\n",
        "\n",
        "    class ClassName(base_classes):\n",
        "        statements\n",
        "\n",
        "        "
      ]
    },
    {
      "cell_type": "markdown",
      "metadata": {
        "id": "YO971bMyLDBi"
      },
      "source": [
        "Class names should always be uppercase (it's a naming convention)."
      ]
    },
    {
      "cell_type": "markdown",
      "metadata": {
        "id": "19Kv57jbLDBj"
      },
      "source": [
        "Say we need to model a Person as:\n",
        "\n",
        "* Name\n",
        "* Surname  \n",
        "* Age  "
      ]
    },
    {
      "cell_type": "code",
      "execution_count": 1,
      "metadata": {
        "colab": {
          "base_uri": "https://localhost:8080/"
        },
        "id": "t7lLPiMPLDBj",
        "outputId": "3a0ccc5f-6928-417b-951d-67ab4763e998"
      },
      "outputs": [
        {
          "output_type": "stream",
          "name": "stdout",
          "text": [
            "<__main__.Person object at 0x7c28043b3ee0>\n",
            "Alec Baldwin was born in 1958.\n"
          ]
        }
      ],
      "source": [
        "class Person:\n",
        "  pass\n",
        "john = Person()\n",
        "john.name = \"Alec\"\n",
        "john.surname = \"Baldwin\"\n",
        "john.year_of_birth = 1958\n",
        "print(john)\n",
        "print(\"%s %s was born in %d.\"%(john.name,john.surname,john.year_of_birth))\n"
      ]
    },
    {
      "cell_type": "markdown",
      "metadata": {
        "id": "tWBfx0ouLDBm"
      },
      "source": [
        "The following example defines an empty class (i.e. the class doesn't have a state) called _Person_ then creates a _Person_ instance called _john_doe_ and adds three attributes to _john_doe_. We see that we can access objects attributes using the \"dot\" operator.\n",
        "\n",
        "This isn't a recommended style because classes should describe homogeneous entities. A way to do so is the following:"
      ]
    },
    {
      "cell_type": "code",
      "execution_count": 2,
      "metadata": {
        "id": "Q_tkthYULDBn"
      },
      "outputs": [],
      "source": [
        "class Person:\n",
        "  def __init__(self,name,surname,year_of_birth):\n",
        "    self.name = name\n",
        "    self.surname = surname\n",
        "    self.year_of_birth = year_of_birth\n"
      ]
    },
    {
      "cell_type": "markdown",
      "metadata": {
        "id": "ZNoO8_NhLDBn"
      },
      "source": [
        "    __init__(self, ...)\n",
        "Is a special _Python_ method that is automatically called after an object construction. Its purpose is to initialize every object state. The first argument (by convention) __self__ is automatically passed either and refers to the object itself.\n",
        "\n",
        "In the preceding example, `__init__` adds three attributes to every object that is instantiated. So the class is actually describing each object's state.\n"
      ]
    },
    {
      "cell_type": "markdown",
      "metadata": {
        "id": "9nu8Hg8oLDBo"
      },
      "source": [
        "We cannot directly manipulate any class rather we need to create an instance of the class:"
      ]
    },
    {
      "cell_type": "code",
      "execution_count": 3,
      "metadata": {
        "colab": {
          "base_uri": "https://localhost:8080/"
        },
        "id": "yRnVp-ZMLDBo",
        "outputId": "d045548a-32f4-4c93-9d07-ac5936a45068"
      },
      "outputs": [
        {
          "output_type": "stream",
          "name": "stdout",
          "text": [
            "<__main__.Person object at 0x7c28043b3850>\n",
            "Alec Baldwin was born in 1958.\n"
          ]
        }
      ],
      "source": [
        "alec = Person(\"Alec\",\"Baldwin\",1958)\n",
        "print(alec)\n",
        "print(\"%s %s was born in %d.\"%(alec.name,alec.surname,alec.year_of_birth))\n"
      ]
    },
    {
      "cell_type": "markdown",
      "metadata": {
        "id": "jiogBtvKLDBo"
      },
      "source": [
        "\n",
        "We have just created an instance of the Person class, bound to the variable `alec`."
      ]
    },
    {
      "cell_type": "markdown",
      "metadata": {
        "id": "Rx2USz1uLDBo"
      },
      "source": [
        "### 1.2 Methods"
      ]
    },
    {
      "cell_type": "code",
      "execution_count": 4,
      "metadata": {
        "colab": {
          "base_uri": "https://localhost:8080/"
        },
        "id": "yovm-LNwLDBo",
        "outputId": "1e78c785-e393-413b-fc89-4b3a1726de5a"
      },
      "outputs": [
        {
          "output_type": "stream",
          "name": "stdout",
          "text": [
            "Alec Baldwin was born in 1958.\n",
            "61\n"
          ]
        }
      ],
      "source": [
        "class Person:\n",
        "  def __init__(self,name,surname,year_of_birth):\n",
        "    self.name = name\n",
        "    self.surname = surname\n",
        "    self.year_of_birth = year_of_birth\n",
        "  def age(self,current_year):\n",
        "    return current_year - self.year_of_birth\n",
        "  def __str__(self):\n",
        "    return \"%s %s was born in %d.\"%(self.name,self.surname,self.year_of_birth)\n",
        "alec = Person(\"Alec\",\"Baldwin\",1958)\n",
        "print(alec)\n",
        "print(alec.age(2019))\n"
      ]
    },
    {
      "cell_type": "code",
      "execution_count": 5,
      "metadata": {
        "colab": {
          "base_uri": "https://localhost:8080/"
        },
        "id": "g3tVC2vwLDBp",
        "outputId": "28bca2e3-64ad-479b-b34d-b3a238403ea6"
      },
      "outputs": [
        {
          "output_type": "stream",
          "name": "stdout",
          "text": [
            "Alex Baldwin was born in 2002.\n",
            "21\n"
          ]
        }
      ],
      "source": [
        "class Person:\n",
        "  def __init__(self,name,surname,year_of_birth):\n",
        "    self.name = name\n",
        "    self.surname = surname\n",
        "    self.year_of_birth = year_of_birth\n",
        "  def age(self,current_year):\n",
        "    return current_year - self.year_of_birth\n",
        "  def __str__(self):\n",
        "    return \"%s %s was born in %d.\"%(self.name,self.surname,self.year_of_birth)\n",
        "alex = Person(\"Alex\",\"Baldwin\",2002)\n",
        "print(alex)\n",
        "print(alex.age(2023))\n"
      ]
    },
    {
      "cell_type": "markdown",
      "metadata": {
        "id": "aSuqGC_9LDBp"
      },
      "source": [
        "We defined two more methods `age` and  `__str__`. The latter is once again a special method that is called by Python when the object has to be represented as a string (e.g. when has to be printed). If the `__str__` method isn't defined the **print** command shows the type of object and its address in memory. We can see that in order to call a method we use the same syntax for attributes (**instance_name.instance _method**)."
      ]
    },
    {
      "cell_type": "markdown",
      "metadata": {
        "id": "JPDTgIFtLDBp"
      },
      "source": [
        "## 2 Inheritance"
      ]
    },
    {
      "cell_type": "markdown",
      "metadata": {
        "id": "wppCQpD2LDBp"
      },
      "source": [
        "Once a class is defined it models a concept. It is useful to extend a class behavior to model a less general concept. Say we need to model a Student, but we know that every student is also a Person so we shouldn't model the Person again but inherit from it instead."
      ]
    },
    {
      "cell_type": "code",
      "execution_count": 7,
      "metadata": {
        "id": "UqXN6t7CLDBp",
        "colab": {
          "base_uri": "https://localhost:8080/"
        },
        "outputId": "f8059244-eb37-493b-b88e-101e6e07f2df"
      },
      "outputs": [
        {
          "output_type": "stream",
          "name": "stdout",
          "text": [
            "Charles Brown was born in 2006.\n",
            "<class '__main__.Student'>\n",
            "True\n",
            "True\n"
          ]
        }
      ],
      "source": [
        "class Student(Person):\n",
        "  def __init__(self,student_id,*args,**kwargs):\n",
        "    super(Student,self).__init__(*args,**kwargs)\n",
        "    self.student_id = student_id\n",
        "charles = Student(1,'Charles','Brown',2006)\n",
        "print(charles)\n",
        "print(type(charles))\n",
        "print(isinstance(charles,Person))\n",
        "print(isinstance(charles,object))"
      ]
    },
    {
      "cell_type": "markdown",
      "metadata": {
        "id": "VelNfgW-LDBp"
      },
      "source": [
        "Charlie now has the same behavior of a Person, but his state has also a student ID. A Person is one of the base classes of Student and Student is one of the sub classes of Person. Be aware that a subclass knows about its superclasses but the converse isn't true.\n",
        "\n",
        "A sub class doesn't only inherits from its base classes, but from its base classes too, forming an inheritance tree that starts from a object (every class base class).\n",
        "\n",
        "    super(Class, instance)\n",
        "    \n",
        "is a function that returns a proxy-object that delegates method calls to a parent or sibling class of type.\n",
        "So we used it to access Person's `__init__`."
      ]
    },
    {
      "cell_type": "markdown",
      "metadata": {
        "id": "NoYiXGDFLDBp"
      },
      "source": [
        "### 2.1 Overriding methods"
      ]
    },
    {
      "cell_type": "markdown",
      "metadata": {
        "id": "-3RIRh5QLDBp"
      },
      "source": [
        "Inheritance allows to add new methods to a subclass but often is useful to change the behavior of a method defined in the superclass. To override a method just define it again."
      ]
    },
    {
      "cell_type": "code",
      "execution_count": 10,
      "metadata": {
        "id": "7M-M5yUuLDBq",
        "colab": {
          "base_uri": "https://localhost:8080/"
        },
        "outputId": "4380e537-030a-4db5-ff40-da611819fbe2"
      },
      "outputs": [
        {
          "output_type": "stream",
          "name": "stdout",
          "text": [
            "Charles Brown was born in 2006. And has ID: 1\n"
          ]
        }
      ],
      "source": [
        "class Student(Person):\n",
        "  def __init__(self,student_id,*args,**kwargs):\n",
        "    super(Student,self).__init__(*args,**kwargs)\n",
        "    self.student_id = student_id\n",
        "  def __str__(self):\n",
        "    return super(Student,self).__str__() + \" And has ID: %d\" %self.student_id\n",
        "charles = Student(1,'Charles','Brown',2006)\n",
        "print(charles)"
      ]
    },
    {
      "cell_type": "markdown",
      "metadata": {
        "id": "B3JUp0qYLDBq"
      },
      "source": [
        "We defined `__str__` again overriding the one wrote in Person, but we wanted to extend it, so we used super to achieve our goal."
      ]
    },
    {
      "cell_type": "markdown",
      "metadata": {
        "id": "FbQfAdESLDBq"
      },
      "source": [
        "## 3 Encapsulation"
      ]
    },
    {
      "cell_type": "markdown",
      "metadata": {
        "id": "vrV-BQY_LDBq"
      },
      "source": [
        "Encapsulation is an another powerful way to extend a class which consists on wrapping an object with a second one.\n",
        "There are two main reasons to use encapsulation:\n",
        "* Composition\n",
        "* Dynamic Extension\n"
      ]
    },
    {
      "cell_type": "markdown",
      "metadata": {
        "id": "yieu8Fd7LDBq"
      },
      "source": [
        "### 3.1 Composition"
      ]
    },
    {
      "cell_type": "markdown",
      "metadata": {
        "id": "uus1pGxNLDBq"
      },
      "source": [
        "The abstraction process relies on creating a simplified model that remove useless details from a concept. In order to be simplified, a model should be described in terms of other simpler concepts.\n",
        "For example, we can say that a car is composed by:\n",
        "* Tyres\n",
        "* Engine\n",
        "* Body\n",
        "\n",
        "And break down each one of these elements in simpler parts until we reach primitive data."
      ]
    },
    {
      "cell_type": "markdown",
      "metadata": {
        "id": "2I4UpA1FLDBq"
      },
      "source": [
        "## 4 Polymorphism and DuckTyping"
      ]
    },
    {
      "cell_type": "markdown",
      "metadata": {
        "id": "2HrtNwYRLDBq"
      },
      "source": [
        "`Python` uses dynamic typing which is also called as duck typing. If an object implements a method you can use it, irrespective of the type. This is different from statically typed languages, where the type of a construct need to be explicitly declared. Polymorphism is the ability to use the same syntax for objects of different types:"
      ]
    },
    {
      "cell_type": "code",
      "execution_count": 11,
      "metadata": {
        "id": "wecKLuAnLDBr",
        "colab": {
          "base_uri": "https://localhost:8080/"
        },
        "outputId": "85bd5eef-ef49-4263-d45b-0d9caf229dcd"
      },
      "outputs": [
        {
          "output_type": "stream",
          "name": "stdout",
          "text": [
            "2\n",
            "['a', 'b', 'c', 'd', 'e']\n",
            "abracadabra\n"
          ]
        }
      ],
      "source": [
        "def summer(a,b):\n",
        "  return a+b\n",
        "print(summer(1,1))\n",
        "print(summer([\"a\",\"b\",\"c\"],[\"d\",\"e\"]))\n",
        "print(summer(\"abra\",\"cadabra\"))"
      ]
    },
    {
      "cell_type": "markdown",
      "metadata": {
        "id": "Cjw9wdFsLDBr"
      },
      "source": [
        "## 5 How long does a class should be?"
      ]
    },
    {
      "cell_type": "markdown",
      "metadata": {
        "id": "JxchEKlbLDBr"
      },
      "source": [
        "There is an Object Oriented Programming (OOP) principle called Single Responsibility Principle (SRP) and it states: \"A class should have one single responsibility\" or \"A class should have only one reason to change\".\n",
        "\n",
        "If you come across a class which doesn't follow the SRP principle, you should spilt it. You will be grateful to SRP during your software maintenance."
      ]
    },
    {
      "cell_type": "markdown",
      "metadata": {
        "id": "SMXdioGnLDBr"
      },
      "source": [
        "# Files\n",
        "\n",
        "Python uses file objects to interact with the external files on your computer. These file objects cab be of any file format on your computer i.e. can be an audio file, a text file, emails, Excel documents, etc. Note that You will probably need to install certain libraries or modules to interact with those various file types, but they are easily available. (We will cover downloading modules later on in the course).\n",
        "\n",
        "Python has a built-in open function that allows us to open and play with basic file types. First we will need a file though. We're going to use some iPython magic to create a text file!\n",
        "\n",
        "## iPython Writing a File"
      ]
    },
    {
      "cell_type": "code",
      "execution_count": 12,
      "metadata": {
        "id": "7zE2D4ZiLDBr",
        "colab": {
          "base_uri": "https://localhost:8080/"
        },
        "outputId": "b4c696b1-6b75-4860-a890-b179b5c5a077"
      },
      "outputs": [
        {
          "output_type": "stream",
          "name": "stdout",
          "text": [
            "Writing superman.txt\n"
          ]
        }
      ],
      "source": [
        "%%writefile superman.txt\n",
        "Hello,this is a quick superman test file"
      ]
    },
    {
      "cell_type": "markdown",
      "metadata": {
        "id": "o7kne50QLDBr"
      },
      "source": [
        "## Python Opening a file\n",
        "\n",
        "We can open a file with the open() function. This function also takes in arguments (also called parameters). Let's see how this is used:"
      ]
    },
    {
      "cell_type": "code",
      "execution_count": 13,
      "metadata": {
        "id": "abMmQ4ikLDBv"
      },
      "outputs": [],
      "source": [
        "# Open the text.txt we made earlier\n",
        "my_file = open(\"superman.txt\")"
      ]
    },
    {
      "cell_type": "code",
      "execution_count": 14,
      "metadata": {
        "id": "LABXxJ63LDBv",
        "colab": {
          "base_uri": "https://localhost:8080/",
          "height": 36
        },
        "outputId": "9e1c78d0-e7d7-4399-d7d9-66e85499354e"
      },
      "outputs": [
        {
          "output_type": "execute_result",
          "data": {
            "text/plain": [
              "'Hello,this is a quick superman test file\\n'"
            ],
            "application/vnd.google.colaboratory.intrinsic+json": {
              "type": "string"
            }
          },
          "metadata": {},
          "execution_count": 14
        }
      ],
      "source": [
        "# We can now read the file\n",
        "my_file.read()"
      ]
    },
    {
      "cell_type": "code",
      "execution_count": 15,
      "metadata": {
        "id": "8W7SsLyCLDBw",
        "colab": {
          "base_uri": "https://localhost:8080/",
          "height": 36
        },
        "outputId": "a9cc220c-c0e7-4df5-fb62-63a18c20fc61"
      },
      "outputs": [
        {
          "output_type": "execute_result",
          "data": {
            "text/plain": [
              "''"
            ],
            "application/vnd.google.colaboratory.intrinsic+json": {
              "type": "string"
            }
          },
          "metadata": {},
          "execution_count": 15
        }
      ],
      "source": [
        "# But what happens if we try to read it again?\n",
        "my_file.read()"
      ]
    },
    {
      "cell_type": "markdown",
      "metadata": {
        "id": "XWJ1LJImLDBw"
      },
      "source": [
        "This happens because you can imagine the reading \"cursor\" is at the end of the file after having read it. So there is nothing left to read. We can reset the \"cursor\" like this:"
      ]
    },
    {
      "cell_type": "code",
      "execution_count": 16,
      "metadata": {
        "id": "osbaQObSLDBw",
        "colab": {
          "base_uri": "https://localhost:8080/"
        },
        "outputId": "969b6581-bedd-438f-8778-375925d23981"
      },
      "outputs": [
        {
          "output_type": "execute_result",
          "data": {
            "text/plain": [
              "0"
            ]
          },
          "metadata": {},
          "execution_count": 16
        }
      ],
      "source": [
        "# Seek to the start of file (index 0)\n",
        "my_file.seek(0)"
      ]
    },
    {
      "cell_type": "code",
      "execution_count": 17,
      "metadata": {
        "id": "s9a2nkVkLDBw",
        "colab": {
          "base_uri": "https://localhost:8080/",
          "height": 36
        },
        "outputId": "f5215dab-fd55-4f0f-9630-8710b15d4f77"
      },
      "outputs": [
        {
          "output_type": "execute_result",
          "data": {
            "text/plain": [
              "'Hello,this is a quick superman test file\\n'"
            ],
            "application/vnd.google.colaboratory.intrinsic+json": {
              "type": "string"
            }
          },
          "metadata": {},
          "execution_count": 17
        }
      ],
      "source": [
        "# Now read again\n",
        "my_file.read()"
      ]
    },
    {
      "cell_type": "markdown",
      "metadata": {
        "id": "wwl1cwujLDBw"
      },
      "source": [
        "In order to not have to reset every time, we can also use the readlines method. Use caution with large files, since everything will be held in memory. We will learn how to iterate over large files later in the course."
      ]
    },
    {
      "cell_type": "code",
      "execution_count": 20,
      "metadata": {
        "id": "_vRd9OE3LDBw",
        "colab": {
          "base_uri": "https://localhost:8080/"
        },
        "outputId": "e8a22d8a-9ca7-42c7-a0fc-60a0b2206f75"
      },
      "outputs": [
        {
          "output_type": "execute_result",
          "data": {
            "text/plain": [
              "0"
            ]
          },
          "metadata": {},
          "execution_count": 20
        }
      ],
      "source": [
        "# Seek to the start of file (index 0)\n",
        "my_file.seek(0)"
      ]
    },
    {
      "cell_type": "code",
      "execution_count": 22,
      "metadata": {
        "id": "BybC4UTiLDBw",
        "colab": {
          "base_uri": "https://localhost:8080/"
        },
        "outputId": "e04d47c2-2569-47c9-81e6-8e40570e1472"
      },
      "outputs": [
        {
          "output_type": "execute_result",
          "data": {
            "text/plain": [
              "['Hello,this is a quick superman test file\\n']"
            ]
          },
          "metadata": {},
          "execution_count": 22
        }
      ],
      "source": [
        "# Readlines returns a list of the lines in the file.\n",
        "my_file.readlines()"
      ]
    },
    {
      "cell_type": "markdown",
      "metadata": {
        "id": "w7awHV3fLDBx"
      },
      "source": [
        "## Writing to a File\n",
        "\n",
        "By default, using the open() function will only allow us to read the file, we need to pass the argument 'w' to write over the file. For example:"
      ]
    },
    {
      "cell_type": "code",
      "execution_count": 25,
      "metadata": {
        "id": "q6MVLB--LDBx"
      },
      "outputs": [],
      "source": [
        "# Add the second argument to the function, 'w' which stands for write\n",
        "my_file = open('superman.txt','w+')"
      ]
    },
    {
      "cell_type": "code",
      "execution_count": 26,
      "metadata": {
        "id": "5Ccp8F2rLDBx",
        "colab": {
          "base_uri": "https://localhost:8080/"
        },
        "outputId": "6b746275-5af5-40de-8417-1151dfd28048"
      },
      "outputs": [
        {
          "output_type": "execute_result",
          "data": {
            "text/plain": [
              "18"
            ]
          },
          "metadata": {},
          "execution_count": 26
        }
      ],
      "source": [
        "# Write to the file\n",
        "my_file.write(\"This is a new file\")"
      ]
    },
    {
      "cell_type": "code",
      "execution_count": 27,
      "metadata": {
        "id": "-ka9M8wqLDBx",
        "colab": {
          "base_uri": "https://localhost:8080/"
        },
        "outputId": "a97df456-c59a-42a9-cec9-1fa060fd4964"
      },
      "outputs": [
        {
          "output_type": "execute_result",
          "data": {
            "text/plain": [
              "0"
            ]
          },
          "metadata": {},
          "execution_count": 27
        }
      ],
      "source": [
        "# Seek to the start of file (index 0)\n",
        "my_file.seek(0)"
      ]
    },
    {
      "cell_type": "code",
      "execution_count": 28,
      "metadata": {
        "id": "xyzi9WtYLDBx",
        "colab": {
          "base_uri": "https://localhost:8080/",
          "height": 36
        },
        "outputId": "0546a4d6-61f8-489d-b07d-13a28a77e1a9"
      },
      "outputs": [
        {
          "output_type": "execute_result",
          "data": {
            "text/plain": [
              "'This is a new file'"
            ],
            "application/vnd.google.colaboratory.intrinsic+json": {
              "type": "string"
            }
          },
          "metadata": {},
          "execution_count": 28
        }
      ],
      "source": [
        "# Read the file\n",
        "my_file.read()"
      ]
    },
    {
      "cell_type": "markdown",
      "metadata": {
        "id": "0MccMjKTLDBx"
      },
      "source": [
        "## Iterating through a File\n",
        "\n",
        "Let's get a quick preview of a for loop by iterating over a text file. First, let's make a new text file with some iPython Magic:"
      ]
    },
    {
      "cell_type": "code",
      "execution_count": 29,
      "metadata": {
        "id": "O0aPptmWLDBx",
        "colab": {
          "base_uri": "https://localhost:8080/"
        },
        "outputId": "89f7632c-a27a-4462-8ecb-af953ce0b470"
      },
      "outputs": [
        {
          "output_type": "stream",
          "name": "stdout",
          "text": [
            "Overwriting superman.txt\n"
          ]
        }
      ],
      "source": [
        "%%writefile superman.txt\n",
        "First line\n",
        "Second line"
      ]
    },
    {
      "cell_type": "markdown",
      "metadata": {
        "id": "hJ_yLmeQLDBx"
      },
      "source": [
        "Now we can use a little bit of flow to tell the program to for through every line of the file and do something:"
      ]
    },
    {
      "cell_type": "code",
      "execution_count": 30,
      "metadata": {
        "id": "jmfXFW-dLDBy",
        "colab": {
          "base_uri": "https://localhost:8080/"
        },
        "outputId": "959626ee-b4c2-453e-8a8f-737af031756d"
      },
      "outputs": [
        {
          "output_type": "stream",
          "name": "stdout",
          "text": [
            "First line\n",
            "\n",
            "Second line\n",
            "\n"
          ]
        }
      ],
      "source": [
        "for l in open('superman.txt'):\n",
        "  print(l)"
      ]
    },
    {
      "cell_type": "code",
      "execution_count": 31,
      "metadata": {
        "id": "qmrRJJh9LDBy",
        "colab": {
          "base_uri": "https://localhost:8080/"
        },
        "outputId": "19557e36-4f1e-402c-d005-f0aee43a5bf1"
      },
      "outputs": [
        {
          "output_type": "stream",
          "name": "stdout",
          "text": [
            "First line\n",
            "\n",
            "Second line\n",
            "\n"
          ]
        }
      ],
      "source": [
        "# Pertaining to the first point above\n",
        "for asdf in open('superman.txt'):\n",
        "  print(asdf)"
      ]
    },
    {
      "cell_type": "markdown",
      "metadata": {
        "id": "FTdy2HKcLDBy"
      },
      "source": [
        "# StringIO\n",
        "\n",
        "The StringIO module implements an in-memory filelike object. This object can then be used as input or output to most functions that would expect a standard file object.\n",
        "\n",
        "The best way to show this is by example:"
      ]
    },
    {
      "cell_type": "code",
      "execution_count": 32,
      "metadata": {
        "id": "y9jO29aHLDBy"
      },
      "outputs": [],
      "source": [
        "from io import StringIO"
      ]
    },
    {
      "cell_type": "code",
      "execution_count": 33,
      "metadata": {
        "id": "SVdtfLE3LDBy"
      },
      "outputs": [],
      "source": [
        "# Arbitrary String\n",
        "msg = \"This is a normal string\""
      ]
    },
    {
      "cell_type": "code",
      "execution_count": 34,
      "metadata": {
        "id": "o4kgCxMELDBy"
      },
      "outputs": [],
      "source": [
        "# Use StringIO method to set as file object\n",
        "f = StringIO(msg)"
      ]
    },
    {
      "cell_type": "markdown",
      "metadata": {
        "id": "L0IgzjJuLDBy"
      },
      "source": [
        "Now we have an object *f* that we will be able to treat just like a file. For example:"
      ]
    },
    {
      "cell_type": "code",
      "execution_count": 35,
      "metadata": {
        "id": "Wzck9u2BLDBy",
        "colab": {
          "base_uri": "https://localhost:8080/",
          "height": 36
        },
        "outputId": "da91dafb-5b0e-4dc1-b66f-fd6a24ec5177"
      },
      "outputs": [
        {
          "output_type": "execute_result",
          "data": {
            "text/plain": [
              "'This is a normal string'"
            ],
            "application/vnd.google.colaboratory.intrinsic+json": {
              "type": "string"
            }
          },
          "metadata": {},
          "execution_count": 35
        }
      ],
      "source": [
        "f.read()"
      ]
    },
    {
      "cell_type": "markdown",
      "metadata": {
        "id": "K-jijiETLDBy"
      },
      "source": [
        "We can also write to it"
      ]
    },
    {
      "cell_type": "code",
      "execution_count": 36,
      "metadata": {
        "id": "58SRoYI_LDBz",
        "colab": {
          "base_uri": "https://localhost:8080/"
        },
        "outputId": "ef03448d-f3b6-4ad0-f724-1e9b0d867ac8"
      },
      "outputs": [
        {
          "output_type": "execute_result",
          "data": {
            "text/plain": [
              "23"
            ]
          },
          "metadata": {},
          "execution_count": 36
        }
      ],
      "source": [
        "f.write(' Second line is written')"
      ]
    },
    {
      "cell_type": "code",
      "execution_count": 37,
      "metadata": {
        "id": "6SEV0tesLDBz",
        "colab": {
          "base_uri": "https://localhost:8080/"
        },
        "outputId": "0e65eef1-1b67-4661-9d86-a65a994baceb"
      },
      "outputs": [
        {
          "output_type": "execute_result",
          "data": {
            "text/plain": [
              "0"
            ]
          },
          "metadata": {},
          "execution_count": 37
        }
      ],
      "source": [
        "# Reset cursor just like you would a file\n",
        "f.seek(0)"
      ]
    },
    {
      "cell_type": "code",
      "execution_count": 38,
      "metadata": {
        "id": "CFvT2rsTLDBz",
        "colab": {
          "base_uri": "https://localhost:8080/",
          "height": 36
        },
        "outputId": "5a2f64b7-e9fe-43d6-8d07-8951e297e954"
      },
      "outputs": [
        {
          "output_type": "execute_result",
          "data": {
            "text/plain": [
              "'This is a normal string Second line is written'"
            ],
            "application/vnd.google.colaboratory.intrinsic+json": {
              "type": "string"
            }
          },
          "metadata": {},
          "execution_count": 38
        }
      ],
      "source": [
        "# Read again\n",
        "f.read()"
      ]
    },
    {
      "cell_type": "code",
      "execution_count": null,
      "metadata": {
        "id": "gKxUTa2PLDBz"
      },
      "outputs": [],
      "source": []
    }
  ],
  "metadata": {
    "kernelspec": {
      "display_name": "Python 3",
      "language": "python",
      "name": "python3"
    },
    "language_info": {
      "codemirror_mode": {
        "name": "ipython",
        "version": 3
      },
      "file_extension": ".py",
      "mimetype": "text/x-python",
      "name": "python",
      "nbconvert_exporter": "python",
      "pygments_lexer": "ipython3",
      "version": "3.7.3"
    },
    "colab": {
      "provenance": []
    }
  },
  "nbformat": 4,
  "nbformat_minor": 0
}